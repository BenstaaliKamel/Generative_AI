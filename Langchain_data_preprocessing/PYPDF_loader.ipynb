{
 "cells": [
  {
   "cell_type": "code",
   "execution_count": 1,
   "id": "4c3fc432-639d-495f-a523-001aa3283a68",
   "metadata": {},
   "outputs": [],
   "source": [
    "from langchain.document_loaders import PyPDFLoader\n",
    "loader = PyPDFLoader(\"Apprendre_le_ML_en_une_semaine.pdf\")\n",
    "pages = loader.load()"
   ]
  },
  {
   "cell_type": "code",
   "execution_count": 2,
   "id": "b4378b2d-6faf-4137-ac5d-d32bc5dcb686",
   "metadata": {},
   "outputs": [
    {
     "data": {
      "text/plain": [
       "100"
      ]
     },
     "execution_count": 2,
     "metadata": {},
     "output_type": "execute_result"
    }
   ],
   "source": [
    "len(pages)"
   ]
  },
  {
   "cell_type": "code",
   "execution_count": 12,
   "id": "c85a28c3-891a-43c8-bc16-f26c4e172351",
   "metadata": {},
   "outputs": [],
   "source": [
    "page = pages[2]"
   ]
  },
  {
   "cell_type": "code",
   "execution_count": 13,
   "id": "4bfd01e2-acf3-47c9-bf51-127de56761ca",
   "metadata": {},
   "outputs": [
    {
     "name": "stdout",
     "output_type": "stream",
     "text": [
      "Introduction – Pourquoi devez -vous lire ce livre ?  \n",
      "3 \n",
      "Tous droits réservés © 2019 Guillaume Saint -Cirgue  \n",
      "machinelearnia.com  Table des matières  \n",
      "Introduction – Pourquoi devez -vous lire ce livre  ? ................................ ................................  4 \n",
      "Qui suis -je ?................................ ................................ ................................ ................................ .............  6 \n",
      "Ce que vous allez ap prendre dans les 7 prochains jours  ................................ ................................ ...........  6 \n",
      "Chapitre 1  : Les fondations du Machine Learning  ................................ ................................ . 8 \n",
      "Comprendre pourquoi le Machine Learning  est utilisé  ................................ ................................ .............  9 \n",
      "Laisser la Machine apprendre à partir d’expériences ................................ ................................ ..............  11 \n",
      "L’Apprentissage Supervisé  ................................ ................................ ................................ .....................  12 \n",
      "Autres méthodes d’apprentissage  ................................ ................................ ................................ .........  17 \n",
      "Les 4 notions clefs du Machine Learning que vous devez absolument retenir  ................................ .........  18 \n",
      "Chapitre 2  : La Régression Linéaire  ................................ ................................ .....................  19 \n",
      "Petit rappel  : Apprentissage Supervisé et problème de Régression  ................................ .........................  20 \n",
      "Apprenez votre premier modèle linéaire  ................................ ................................ ...............................  20 \n",
      "Résumé des étapes pour développer un programme de Régression Linéaire  ................................ ..........  28 \n",
      "Chapitre 3  : Adieu Excel, bonjour Python. Vous voilà Data Scientist  ! ................................  29 \n",
      "Installer Python Anaconda  : le meilleur outil de Machine Learning  ................................ .........................  30 \n",
      "Apprenez la programmation en 15 minutes  ................................ ................................ ...........................  32 \n",
      "Développer enfin votre premier programme de Machine Learning  ................................ ........................  38 \n",
      "Résumé de ce Chapitre  ................................ ................................ ................................ ..........................  46 \n",
      "Chapitre 4  : Régressio n Logistique et Algorithmes de Classification ................................ ... 47 \n",
      "Les problèmes de Classification  ................................ ................................ ................................ .............  48 \n",
      "Le modèle de Régression logistique  ................................ ................................ ................................ .......  49 \n",
      "Développer un programme de classification binaire dans Jupyter  ................................ ..........................  53 \n",
      "L’Algorithme de Nearest Neighbour  ................................ ................................ ................................ .......  55 \n",
      "Vision par ordinateur avec K -NN dans Jupyter  ................................ ................................ .......................  58 \n",
      "Chapitre 5  : Réseaux de Neurones  ................................ ................................ ......................  61 \n",
      "Introduction aux Réseaux de Neurones  ................................ ................................ ................................ . 62 \n",
      "Programmer votre premier Réseau de Neurones pour identifier des espèces d’Iris.  ...............................  68 \n",
      "Résumé de l’apprentissage supervisé  ................................ ................................ ................................ .... 69 \n",
      "Chapitre 6  : Apprentissage Non -Supervisé  ................................ ................................ .........  70 \n",
      "Unsupervised Learning  ................................ ................................ ................................ ..........................  71 \n",
      "Algorithme de K -Mean Clustering  ................................ ................................ ................................ ..........  73 \n",
      "Programmer un K -Mean Clustering  ................................ ................................ ................................ ........  74 \n",
      "Chapitre 7  : Comment gérer un projet de Machine Learning  ................................ ..............  77 \n",
      "L’erreur que font la majorité des Novices  ................................ ................................ ..............................  78 \n",
      "Le plus important, ce n’est pas l’algorithme, ce sont les Données  ................................ ..........................  79 \n",
      "Over fitting et Régularisation  ................................ ................................ ................................ .................  83 \n",
      "Diagnostiquer un modèle de Machine Learning  ................................ ................................ .....................  87 \n",
      "Cycle de développement du Machine Learning  ................................ ................................ ......................  91 \n",
      "CONCLUSION  ................................ ................................ ................................ ......................  93 \n",
      "Lexique  : Formule Résumé du Machine Learning  ................................ ...............................  94 \n",
      " \n"
     ]
    }
   ],
   "source": [
    "print(page.page_content[0:10000])"
   ]
  },
  {
   "cell_type": "code",
   "execution_count": 5,
   "id": "a673d0ba-f014-482a-b414-3e3b4679fccd",
   "metadata": {},
   "outputs": [
    {
     "data": {
      "text/plain": [
       "{'source': 'Apprendre_le_ML_en_une_semaine.pdf', 'page': 0}"
      ]
     },
     "execution_count": 5,
     "metadata": {},
     "output_type": "execute_result"
    }
   ],
   "source": [
    "page.metadata"
   ]
  },
  {
   "cell_type": "code",
   "execution_count": null,
   "id": "970e4f13-e492-49a5-a35a-84a6e5c3007f",
   "metadata": {},
   "outputs": [],
   "source": []
  }
 ],
 "metadata": {
  "kernelspec": {
   "display_name": "Python 3 (ipykernel)",
   "language": "python",
   "name": "python3"
  },
  "language_info": {
   "codemirror_mode": {
    "name": "ipython",
    "version": 3
   },
   "file_extension": ".py",
   "mimetype": "text/x-python",
   "name": "python",
   "nbconvert_exporter": "python",
   "pygments_lexer": "ipython3",
   "version": "3.12.1"
  }
 },
 "nbformat": 4,
 "nbformat_minor": 5
}
